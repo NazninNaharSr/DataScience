{
  "nbformat": 4,
  "nbformat_minor": 0,
  "metadata": {
    "colab": {
      "provenance": [],
      "authorship_tag": "ABX9TyMEBccIwhQfbhkIWmsO1Dk0",
      "include_colab_link": true
    },
    "kernelspec": {
      "name": "python3",
      "display_name": "Python 3"
    },
    "language_info": {
      "name": "python"
    }
  },
  "cells": [
    {
      "cell_type": "markdown",
      "metadata": {
        "id": "view-in-github",
        "colab_type": "text"
      },
      "source": [
        "<a href=\"https://colab.research.google.com/github/NazninNaharSr/Dataframe/blob/main/panda.ipynb\" target=\"_parent\"><img src=\"https://colab.research.google.com/assets/colab-badge.svg\" alt=\"Open In Colab\"/></a>"
      ]
    },
    {
      "cell_type": "markdown",
      "source": [
        "Create a DataFrame with Pandas\n"
      ],
      "metadata": {
        "id": "WjzICv0jxYIA"
      }
    },
    {
      "cell_type": "code",
      "source": [
        "import pandas as pd;"
      ],
      "metadata": {
        "id": "fjUILbYCxUbH"
      },
      "execution_count": 2,
      "outputs": []
    },
    {
      "cell_type": "code",
      "source": [
        "d = {'col1': [1, 2, 3, 4, 5], 'col2': ['hi','hello','sristy','gittu','bhaoo'], 'col3': [7, 8, 12, 1, 11]}"
      ],
      "metadata": {
        "id": "2dbxl6oUxjEH"
      },
      "execution_count": 3,
      "outputs": []
    },
    {
      "cell_type": "markdown",
      "source": [
        "Create a data frame using the function pd.DataFrame()"
      ],
      "metadata": {
        "id": "Qk028YGcx5y3"
      }
    },
    {
      "cell_type": "code",
      "source": [
        "df = pd.DataFrame(data=d)\n"
      ],
      "metadata": {
        "id": "fWO03qL5x1-b"
      },
      "execution_count": 4,
      "outputs": []
    },
    {
      "cell_type": "code",
      "source": [
        "print(df)"
      ],
      "metadata": {
        "colab": {
          "base_uri": "https://localhost:8080/"
        },
        "id": "EeuMCg1lx-w3",
        "outputId": "bea70dc0-9556-4b9a-e401-de04fc5a813d"
      },
      "execution_count": 5,
      "outputs": [
        {
          "output_type": "stream",
          "name": "stdout",
          "text": [
            "   col1    col2  col3\n",
            "0     1      hi     7\n",
            "1     2   hello     8\n",
            "2     3  sristy    12\n",
            "3     4   gittu     1\n",
            "4     5   bhaoo    11\n"
          ]
        }
      ]
    },
    {
      "cell_type": "markdown",
      "source": [
        "Count the number of columns"
      ],
      "metadata": {
        "id": "nqajdB7JysSk"
      }
    },
    {
      "cell_type": "code",
      "source": [
        "count_column = df.shape[1]\n"
      ],
      "metadata": {
        "id": "bpHsDW4LyvpC"
      },
      "execution_count": 6,
      "outputs": []
    },
    {
      "cell_type": "code",
      "source": [
        "print(count_column)"
      ],
      "metadata": {
        "colab": {
          "base_uri": "https://localhost:8080/"
        },
        "id": "rAo6Wz7gy1HC",
        "outputId": "bb50440e-ecb1-4a93-84fc-3f60b09e3fe4"
      },
      "execution_count": 7,
      "outputs": [
        {
          "output_type": "stream",
          "name": "stdout",
          "text": [
            "3\n"
          ]
        }
      ]
    }
  ]
}