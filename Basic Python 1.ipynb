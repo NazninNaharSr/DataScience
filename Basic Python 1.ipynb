{
  "cells": [
    {
      "cell_type": "markdown",
      "metadata": {
        "id": "view-in-github",
        "colab_type": "text"
      },
      "source": [
        "<a href=\"https://colab.research.google.com/github/NazninNaharSr/DataScience/blob/main/Basic%20Python%201.ipynb\" target=\"_parent\"><img src=\"https://colab.research.google.com/assets/colab-badge.svg\" alt=\"Open In Colab\"/></a>"
      ]
    },
    {
      "cell_type": "code",
      "execution_count": 1,
      "id": "1bb4c9c3",
      "metadata": {
        "colab": {
          "base_uri": "https://localhost:8080/"
        },
        "id": "1bb4c9c3",
        "outputId": "168a6f25-c103-4afb-f010-801a825696e6"
      },
      "outputs": [
        {
          "output_type": "stream",
          "name": "stdout",
          "text": [
            "First Name :Naznin\n",
            "Last Name :nahar\n",
            "Birthday :3/11\n",
            "Age :23\n",
            "Phone Number :374562871897\n",
            "My name is  Naznin   nahar , who was 23 years old.  Please call me at  374562871897  before my birthday  3/11 .\n"
          ]
        }
      ],
      "source": [
        "#Part1\n",
        "\n",
        "#1) Please encode a Python code to perform:\n",
        "#a) Ask user to type in user’s first name, last name, birthday, age and tel#\n",
        "#b) Display the following message:\n",
        "\n",
        "firstName=input(\"First Name :\")\n",
        "lastName=input(\"Last Name :\")\n",
        "birthDay=input(\"Birthday :\")\n",
        "age=int(input(\"Age :\"))\n",
        "tel=input(\"Phone Number :\")\n",
        "\n",
        "print(\"My name is \",firstName,\" \",lastName,\", who was\", age,\"years old.  Please call me at \",tel,\" before my birthday \",birthDay,\".\")\n",
        "\n"
      ]
    },
    {
      "cell_type": "code",
      "execution_count": 2,
      "id": "9a6adcd4",
      "metadata": {
        "colab": {
          "base_uri": "https://localhost:8080/"
        },
        "id": "9a6adcd4",
        "outputId": "66dd42b0-c26c-4998-9f3b-089850a5da1a"
      },
      "outputs": [
        {
          "output_type": "stream",
          "name": "stdout",
          "text": [
            "Input the string :naznin\n",
            "Input the character :i\n",
            "Number of occurrences of character  i  is : 1\n"
          ]
        }
      ],
      "source": [
        "#2)Please design a function which will calculate the number of total occurrences for a letter existing in a word.\n",
        "def NumberOfOccurrences(str,char):\n",
        "    count=0\n",
        "    for ch in str:\n",
        "        if ch==char:\n",
        "            count=count+1\n",
        "\n",
        "    return count\n",
        "\n",
        "\n",
        "str=input(\"Input the string :\")\n",
        "char=input(\"Input the character :\")\n",
        "cnt=0;\n",
        "\n",
        "print(\"Number of occurrences of character \",char,\" is :\",NumberOfOccurrences(str,char))\n",
        ""
      ]
    },
    {
      "cell_type": "code",
      "execution_count": 3,
      "id": "ed479c83",
      "metadata": {
        "colab": {
          "base_uri": "https://localhost:8080/"
        },
        "id": "ed479c83",
        "outputId": "ddb2af16-9e79-4cab-88a8-a2626121b6d5"
      },
      "outputs": [
        {
          "output_type": "stream",
          "name": "stdout",
          "text": [
            "Input the string :naznin\n",
            "Input the character :a\n",
            "Index of chararacter ' a ' are : [1]\n"
          ]
        }
      ],
      "source": [
        "#3) Please design a function which will display all index numbers of the occurrences for a letter existing in a word.\n",
        "\n",
        "def IndexOfTheCharacter(str,char):\n",
        "    index=[]\n",
        "    for i in range(len(str)):\n",
        "        if str[i]==char:\n",
        "            index.append(i)\n",
        "\n",
        "\n",
        "    return index\n",
        "str=input(\"Input the string :\")\n",
        "char=input(\"Input the character :\")\n",
        "print(\"Index of chararacter '\",char,\"' are :\",IndexOfTheCharacter(str,char))\n"
      ]
    },
    {
      "cell_type": "code",
      "execution_count": 4,
      "id": "13a26b0e",
      "metadata": {
        "colab": {
          "base_uri": "https://localhost:8080/"
        },
        "id": "13a26b0e",
        "outputId": "9fde7484-ba65-4589-d357-ba9cd0b0ca39"
      },
      "outputs": [
        {
          "output_type": "stream",
          "name": "stdout",
          "text": [
            "Input the word : naznin\n",
            "Alphatical order of the word is : ainnnz\n"
          ]
        }
      ],
      "source": [
        "#4) Please design a Python function which will contain one input argument (any English word), then display the alphabetic order of all letters in this word\n",
        "def SortTheWord(str):\n",
        "    array=list(str)\n",
        "    for i in range(len(array)):\n",
        "        for j in range(i+1,len(array)):\n",
        "            if array[j]<array[i]:\n",
        "\n",
        "                temp=array[j]\n",
        "                array[j]=array[i]\n",
        "                array[i]=temp\n",
        "    str2=\"\"\n",
        "    for i in array:\n",
        "        str2+=i;\n",
        "    return str2\n",
        "str=input(\"Input the word : \")\n",
        "print(\"Alphatical order of the word is :\",SortTheWord(str))"
      ]
    },
    {
      "cell_type": "code",
      "execution_count": 5,
      "id": "d1320170",
      "metadata": {
        "colab": {
          "base_uri": "https://localhost:8080/"
        },
        "id": "d1320170",
        "outputId": "d1e1aef9-6de0-439c-f25b-f6f412c046d1"
      },
      "outputs": [
        {
          "output_type": "stream",
          "name": "stdout",
          "text": [
            "Input the size of the list :2\n",
            "Input the numbers \n",
            "45\n",
            "67\n",
            "The Multiplication :  3015\n"
          ]
        }
      ],
      "source": [
        "#5)Please design a Python function which will multiply each numerical element inside a List and display its output.\n",
        "\n",
        "def MultiplyNumber(array):\n",
        "    ans=1;\n",
        "    for num in array:\n",
        "        ans*=num\n",
        "    return ans\n",
        "\n",
        "n=int(input(\"Input the size of the list :\"))\n",
        "\n",
        "array=[]\n",
        "print(\"Input the numbers \")\n",
        "for i in range(n):\n",
        "    num=int(input())\n",
        "    array.append(num)\n",
        "\n",
        "print(\"The Multiplication : \",MultiplyNumber(array))"
      ]
    },
    {
      "cell_type": "code",
      "execution_count": 8,
      "id": "f648f8ac",
      "metadata": {
        "colab": {
          "base_uri": "https://localhost:8080/"
        },
        "id": "f648f8ac",
        "outputId": "33f45fb1-0f4c-4d4c-8f4c-46468b35d227"
      },
      "outputs": [
        {
          "output_type": "stream",
          "name": "stdout",
          "text": [
            "Enter the element Number: 4\n",
            "3\n",
            "5\n",
            "6\n",
            "7\n",
            "[3, 5, 6]\n"
          ]
        }
      ],
      "source": [
        "#6)Please create a Python function, which will take a List variable argument, and perform the deletion on its last element, then display the result in terminal.\n",
        "def LastElement(array):\n",
        "    array.pop()\n",
        "    return array\n",
        "n=int(input(\"Enter the element Number: \"))\n",
        "array=[]\n",
        "for i in range(0,n):\n",
        "    array.append(int(input()))\n",
        "print(LastElement(array))"
      ]
    },
    {
      "cell_type": "code",
      "execution_count": 9,
      "id": "bd9cf74f",
      "metadata": {
        "colab": {
          "base_uri": "https://localhost:8080/"
        },
        "id": "bd9cf74f",
        "outputId": "e0c37ab1-3f67-4d9e-9646-b96a09849fe1"
      },
      "outputs": [
        {
          "output_type": "stream",
          "name": "stdout",
          "text": [
            "Monday -> ('apple', 'rice')\n",
            "Tuesday -> ('orange',)\n",
            "Wednesday -> ('banana',)\n",
            "Thursday -> ('watermelon', 'pizza')\n",
            "Friday -> ('tomato',)\n"
          ]
        }
      ],
      "source": [
        "#7) Please create the following dictionary using Python and list all keys and corresponding value(s).\n",
        "#Monday -> (apple, rice)\n",
        "#Tuesday -> (orange)\n",
        "#Wednesday -> (banana)\n",
        "#Thursday -> (watermelon, pizza)\n",
        "#Friday -> (tomato)\n",
        "\n",
        "dict = {\n",
        "    \"Monday\": (\"apple\", \"rice\"),\n",
        "    \"Tuesday\": (\"orange\",),\n",
        "    \"Wednesday\": (\"banana\",),\n",
        "    \"Thursday\": (\"watermelon\", \"pizza\"),\n",
        "    \"Friday\": (\"tomato\",)\n",
        "}\n",
        "\n",
        "\n",
        "for key, values in dict.items():\n",
        "    print(f\"{key} -> {values}\")\n"
      ]
    },
    {
      "cell_type": "code",
      "execution_count": 10,
      "id": "9549708d",
      "metadata": {
        "colab": {
          "base_uri": "https://localhost:8080/"
        },
        "id": "9549708d",
        "outputId": "f97ab810-3338-4d5a-9868-fce4cf636c5b"
      },
      "outputs": [
        {
          "output_type": "stream",
          "name": "stdout",
          "text": [
            "Input First Number: 4\n",
            "Input Second Number: 7\n",
            "Input Third Number: 8\n",
            "The sum of 3 numbers : 19\n"
          ]
        }
      ],
      "source": [
        "#8) Please design a Python function which will take 3 numerical arguments and output their sum.\n",
        "def SumOfNumbers(a,b,c):\n",
        "    return a+b+c\n",
        "\n",
        "a=int(input(\"Input First Number: \"))\n",
        "b=int(input(\"Input Second Number: \"))\n",
        "c=int(input(\"Input Third Number: \"))\n",
        "\n",
        "print(\"The sum of 3 numbers :\",SumOfNumbers(a,b,c))"
      ]
    },
    {
      "cell_type": "code",
      "execution_count": 11,
      "id": "897e8649",
      "metadata": {
        "colab": {
          "base_uri": "https://localhost:8080/"
        },
        "id": "897e8649",
        "outputId": "f70256ca-8641-438a-c800-29d64014f740"
      },
      "outputs": [
        {
          "output_type": "stream",
          "name": "stdout",
          "text": [
            "Input the Letter A :a\n",
            "Input the Letter B :b\n",
            "B has higher letter order.\n"
          ]
        }
      ],
      "source": [
        "#9) Please design a function which will take 2 alphabetic letters, compare them, if letter A is larger than letter B, print “A has higher letter order” else if letter B is larger than letter A, print “B has higher letter order”, else print “They are the same letter”.\n",
        "\n",
        "def CompareLetter(a,b):\n",
        "    if a>b :\n",
        "        return 1\n",
        "    if b>a :\n",
        "        return 2\n",
        "    return 3\n",
        "\n",
        "a=input(\"Input the Letter A :\")\n",
        "b=input(\"Input the Letter B :\")\n",
        "ans=CompareLetter(a,b)\n",
        "\n",
        "if ans==1:\n",
        "    print(\"A has higher letter order.\")\n",
        "elif ans==2:\n",
        "    print(\"B has higher letter order.\")\n",
        "else:\n",
        "    print(\"They are the same letter.\")\n",
        ""
      ]
    },
    {
      "cell_type": "code",
      "execution_count": null,
      "id": "c10d9985",
      "metadata": {
        "id": "c10d9985",
        "outputId": "cba44a82-00e0-49e9-dd53-e76e154aa2cf"
      },
      "outputs": [
        {
          "name": "stdout",
          "output_type": "stream",
          "text": [
            "{'0': '5.64', '1': '5.64', '3': '4.71', '4': '4.71'}\n",
            "{'0': '6.00', '1': '6.00', '3': '6.09', '4': '6.09'}\n",
            "{\n",
            "  \"CPU0\": {\n",
            "    \"sku_e\": \"23.24\",\n",
            "    \"mem_e\": {\n",
            "      \"0\": \"5.64\",\n",
            "      \"1\": \"5.64\",\n",
            "      \"3\": \"4.71\",\n",
            "      \"4\": \"4.71\"\n",
            "    },\n",
            "    \"mem_a\": \"20.72\",\n",
            "    \"times\": \"20211019_14:39:14\",\n",
            "    \"average\": 5\n",
            "  },\n",
            "  \"Sys_info\": {\n",
            "    \"CPU Model\": \"Intel(R) Xeon(R) Gold 6144 CPU @ 3.50GHz\",\n",
            "    \"MicroCode\": \"0x2006a08\",\n",
            "    \"NumOfCore\": 8,\n",
            "    \"MB_Name\": \"X11DPU\",\n",
            "    \"NumOfCPUs\": 2\n",
            "  },\n",
            "  \"CPU1\": {\n",
            "    \"sku_e\": \"21.58\",\n",
            "    \"mem_e\": {\n",
            "      \"0\": \"6.00\",\n",
            "      \"1\": \"6.00\",\n",
            "      \"3\": \"6.09\",\n",
            "      \"4\": \"6.09\"\n",
            "    },\n",
            "    \"mem_a\": \"24.18\",\n",
            "    \"times\": \"20211019_14:39:14\",\n",
            "    \"average\": 6\n",
            "  }\n",
            "}\n"
          ]
        },
        {
          "ename": "NameError",
          "evalue": "name 'json_data' is not defined",
          "output_type": "error",
          "traceback": [
            "\u001b[1;31m---------------------------------------------------------------------------\u001b[0m",
            "\u001b[1;31mNameError\u001b[0m                                 Traceback (most recent call last)",
            "Cell \u001b[1;32mIn[1], line 35\u001b[0m\n\u001b[0;32m     32\u001b[0m \u001b[38;5;66;03m# Print the updated JSON data\u001b[39;00m\n\u001b[0;32m     33\u001b[0m \u001b[38;5;28mprint\u001b[39m(json\u001b[38;5;241m.\u001b[39mdumps(data, indent\u001b[38;5;241m=\u001b[39m\u001b[38;5;241m2\u001b[39m))\n\u001b[1;32m---> 35\u001b[0m data_dict \u001b[38;5;241m=\u001b[39m json\u001b[38;5;241m.\u001b[39mloads(json_data)\n\u001b[0;32m     37\u001b[0m \u001b[38;5;66;03m# Printing the resulting dictionary\u001b[39;00m\n\u001b[0;32m     38\u001b[0m \u001b[38;5;28mprint\u001b[39m(\u001b[38;5;124m\"\u001b[39m\u001b[38;5;124mDictionary:\u001b[39m\u001b[38;5;124m\"\u001b[39m, data_dict)\n",
            "\u001b[1;31mNameError\u001b[0m: name 'json_data' is not defined"
          ]
        }
      ],
      "source": [
        "#10) Please read in “JSON_Example” TXT document and perform the following tasks:\n",
        "#a. Retrieve all CPU’s mem_e data values\n",
        "#b. Get average value for each CPU’s mem_e values\n",
        "#c. Add one more key named “average” for each CPU and their corresponding value in b) at the same level of “mem_e”.\n",
        "\n",
        "import json\n",
        "\n",
        "with open('JSON_Example.json') as f:\n",
        "    data = json.load(f)\n",
        "\n",
        "CPU0_mem_e = data['CPU0']['mem_e']\n",
        "CPU1_mem_e = data ['CPU1']['mem_e']\n",
        "print(CPU0_mem_e)\n",
        "print (CPU1_mem_e)\n",
        "# Calculate the average value for CPU0's 'mem_e'\n",
        "# First, convert all values to integers and then calculate the average\n",
        "#cpu0\n",
        "CPU0_mem_e_values = [float(value) for value in CPU0_mem_e.values()]\n",
        "CPU0_mem_e_avg = sum(CPU0_mem_e_values) / len(CPU0_mem_e_values)\n",
        "#cpu1\n",
        "CPU1_mem_e_values = [float(value) for value in CPU1_mem_e.values()]\n",
        "CPU1_mem_e_avg = sum(CPU1_mem_e_values) / len(CPU1_mem_e_values)\n",
        "\n",
        "\n",
        "data['CPU0']['average'] = CPU0_mem_e_avg\n",
        "data['CPU1']['average'] = CPU1_mem_e_avg\n",
        "\n",
        "# Convert the 'average' value to an integer\n",
        "data['CPU0']['average'] = int(data['CPU0']['average'])\n",
        "data['CPU1']['average'] = int(data['CPU1']['average'])\n",
        "\n",
        "# Print the updated JSON data\n",
        "print(json.dumps(data, indent=2))\n",
        "\n",
        "data_dict = json.loads(json_data)\n",
        "\n",
        "# Printing the resulting dictionary\n",
        "print(\"Dictionary:\", data_dict)\n"
      ]
    },
    {
      "cell_type": "code",
      "execution_count": null,
      "id": "4c533f86",
      "metadata": {
        "id": "4c533f86",
        "outputId": "acdc69d8-0937-4424-ecae-16509f4f1094"
      },
      "outputs": [
        {
          "name": "stdout",
          "output_type": "stream",
          "text": [
            "[(1, 'a'), (2, 'b'), (3, 'c')]\n"
          ]
        }
      ],
      "source": [
        "#11) Young tried “zip” on 2 data types and found the list of tuples were not created.   Can you kindly figure out a solution?\n",
        "\n",
        "list1 = [1, 2, 3]\n",
        "list2 = ['a', 'b', 'c']\n",
        "result = list(zip(list1, list2))\n",
        "print(result)"
      ]
    },
    {
      "cell_type": "code",
      "execution_count": null,
      "id": "0cc42565",
      "metadata": {
        "id": "0cc42565",
        "outputId": "e9e8485e-8d63-4a45-abcf-fb7ac011135f"
      },
      "outputs": [
        {
          "name": "stdout",
          "output_type": "stream",
          "text": [
            "/C:/Users/nazni/Downloads/Python\\A1.txt\n",
            "/C:/Users/nazni/Downloads/Python\\B3.txt\n",
            "/C:/Users/nazni/Downloads/Python\\C12.txt\n",
            "/C:/Users/nazni/Downloads/Python\\D6.txt\n"
          ]
        }
      ],
      "source": [
        "#12) In a folder of your PC, let’s say you have the files:  A1.txt, B3.txt, C12.txt, D6.txt\n",
        "#How will you design a Python script to construct a list which contains the full paths (folder path and file name) of these 4 files?\n",
        "\n",
        "import os\n",
        "folder=\"/C:/Users/nazni/DownloadsPython\"\n",
        "file_names=[\"A1.txt\", \"B3.txt\", \"C12.txt\", \"D6.txt\"]\n",
        "file_with_path=[]\n",
        "for file in file_names:\n",
        "    file_with_path.append(os.path.join(folder, file))\n",
        "for path in file_with_path:\n",
        "    print(path)\n"
      ]
    },
    {
      "cell_type": "code",
      "execution_count": null,
      "id": "1338d052",
      "metadata": {
        "id": "1338d052",
        "outputId": "50f7f323-fc47-4cd4-bf24-2c29008d2ac3"
      },
      "outputs": [
        {
          "name": "stdout",
          "output_type": "stream",
          "text": [
            "CPU10: \"times\": \"20211019_14:39:14\"\n",
            "CPU10: \"times\": \"20211019_14:39:14\"\n"
          ]
        }
      ],
      "source": [
        "#Part 2\n",
        "#Please use the RE syntax we discussed in class, including each part of the main skeleton in Python code to perform the following tasks:\n",
        "#1. The target txt file is “RE_data_Example”.\n",
        "#2. Pattern is like:   20211019_14:39:14\n",
        "#3. Display the line with the required Date and Time pattern along with the associated CPU#.\n",
        "\n",
        "import re\n",
        "\n",
        "# Open the file and read its contents\n",
        "with open(\"RE_data_Example.txt\", \"r\") as file:\n",
        "    data = file.readlines()\n",
        "\n",
        "# Define the pattern to search for\n",
        "pattern = r\"\\d{8}_\\d{2}:\\d{2}:\\d{2}\"\n",
        "\n",
        "# Search for the pattern in each line of the file\n",
        "for line in data:\n",
        "    match = re.search(pattern, line)\n",
        "    if match:\n",
        "        print(f\"CPU{data.index(line)}: {line.strip()}\")\n"
      ]
    },
    {
      "cell_type": "code",
      "execution_count": null,
      "id": "bb846efe",
      "metadata": {
        "id": "bb846efe"
      },
      "outputs": [],
      "source": [
        "t=int(input())\n",
        "for xx in range(1,t+1):\n",
        "    n=int(input())\n",
        "    for i in range(1,n+1):\n",
        "        for j in range(1,n+1):\n",
        "            print(\"*\",end=\" \")"
      ]
    },
    {
      "cell_type": "code",
      "execution_count": null,
      "id": "0be5bc4e",
      "metadata": {
        "id": "0be5bc4e"
      },
      "outputs": [],
      "source": []
    },
    {
      "cell_type": "code",
      "execution_count": null,
      "id": "42274b67",
      "metadata": {
        "id": "42274b67"
      },
      "outputs": [],
      "source": []
    },
    {
      "cell_type": "code",
      "execution_count": null,
      "id": "0c9287d1",
      "metadata": {
        "id": "0c9287d1"
      },
      "outputs": [],
      "source": []
    }
  ],
  "metadata": {
    "kernelspec": {
      "display_name": "Python 3 (ipykernel)",
      "language": "python",
      "name": "python3"
    },
    "language_info": {
      "codemirror_mode": {
        "name": "ipython",
        "version": 3
      },
      "file_extension": ".py",
      "mimetype": "text/x-python",
      "name": "python",
      "nbconvert_exporter": "python",
      "pygments_lexer": "ipython3",
      "version": "3.11.5"
    },
    "colab": {
      "provenance": [],
      "include_colab_link": true
    }
  },
  "nbformat": 4,
  "nbformat_minor": 5
}