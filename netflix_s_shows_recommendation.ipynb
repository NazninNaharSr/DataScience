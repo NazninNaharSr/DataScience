{
  "metadata": {
    "kernelspec": {
      "language": "python",
      "display_name": "Python 3",
      "name": "python3"
    },
    "language_info": {
      "name": "python",
      "version": "3.10.12",
      "mimetype": "text/x-python",
      "codemirror_mode": {
        "name": "ipython",
        "version": 3
      },
      "pygments_lexer": "ipython3",
      "nbconvert_exporter": "python",
      "file_extension": ".py"
    },
    "kaggle": {
      "accelerator": "none",
      "dataSources": [
        {
          "sourceId": 2654038,
          "sourceType": "datasetVersion",
          "datasetId": 434238
        }
      ],
      "dockerImageVersionId": 30587,
      "isInternetEnabled": true,
      "language": "python",
      "sourceType": "notebook",
      "isGpuEnabled": false
    },
    "colab": {
      "provenance": [],
      "include_colab_link": true
    }
  },
  "nbformat_minor": 0,
  "nbformat": 4,
  "cells": [
    {
      "cell_type": "markdown",
      "metadata": {
        "id": "view-in-github",
        "colab_type": "text"
      },
      "source": [
        "<a href=\"https://colab.research.google.com/github/NazninNaharSr/DataScience/blob/main/netflix_s_shows_recommendation.ipynb\" target=\"_parent\"><img src=\"https://colab.research.google.com/assets/colab-badge.svg\" alt=\"Open In Colab\"/></a>"
      ]
    },
    {
      "cell_type": "code",
      "source": [
        "#loading the libraries\n",
        "import numpy as np\n",
        "import pandas as pd\n",
        "import matplotlib.pyplot as plt\n",
        "import seaborn as sns\n",
        "import matplotlib.pyplot as plt"
      ],
      "metadata": {
        "_uuid": "8f2839f25d086af736a60e9eeb907d3b93b6e0e5",
        "_cell_guid": "b1076dfc-b9ad-4769-8c92-a6c4dae69d19",
        "execution": {
          "iopub.status.busy": "2023-12-01T23:19:31.905864Z",
          "iopub.execute_input": "2023-12-01T23:19:31.906349Z",
          "iopub.status.idle": "2023-12-01T23:19:34.010644Z",
          "shell.execute_reply.started": "2023-12-01T23:19:31.906308Z",
          "shell.execute_reply": "2023-12-01T23:19:34.009402Z"
        },
        "trusted": true,
        "id": "kmxWHAcCsP3P"
      },
      "execution_count": null,
      "outputs": []
    },
    {
      "cell_type": "markdown",
      "source": [
        "**Loading the dataset**"
      ],
      "metadata": {
        "id": "Uo1IvTaasP3S"
      }
    },
    {
      "cell_type": "code",
      "source": [
        "netflix = pd.read_csv('/kaggle/input/netflix-shows/netflix_titles.csv')\n",
        "netflix.head()"
      ],
      "metadata": {
        "execution": {
          "iopub.status.busy": "2023-12-01T23:19:34.012568Z",
          "iopub.execute_input": "2023-12-01T23:19:34.013078Z",
          "iopub.status.idle": "2023-12-01T23:19:34.214679Z",
          "shell.execute_reply.started": "2023-12-01T23:19:34.013043Z",
          "shell.execute_reply": "2023-12-01T23:19:34.213290Z"
        },
        "trusted": true,
        "id": "Z28FhFeOsP3U",
        "outputId": "2d26a87b-135a-49df-bab8-52935627ef2c"
      },
      "execution_count": null,
      "outputs": [
        {
          "execution_count": 2,
          "output_type": "execute_result",
          "data": {
            "text/plain": "  show_id     type                  title         director  \\\n0      s1    Movie   Dick Johnson Is Dead  Kirsten Johnson   \n1      s2  TV Show          Blood & Water              NaN   \n2      s3  TV Show              Ganglands  Julien Leclercq   \n3      s4  TV Show  Jailbirds New Orleans              NaN   \n4      s5  TV Show           Kota Factory              NaN   \n\n                                                cast        country  \\\n0                                                NaN  United States   \n1  Ama Qamata, Khosi Ngema, Gail Mabalane, Thaban...   South Africa   \n2  Sami Bouajila, Tracy Gotoas, Samuel Jouy, Nabi...            NaN   \n3                                                NaN            NaN   \n4  Mayur More, Jitendra Kumar, Ranjan Raj, Alam K...          India   \n\n           date_added  release_year rating   duration  \\\n0  September 25, 2021          2020  PG-13     90 min   \n1  September 24, 2021          2021  TV-MA  2 Seasons   \n2  September 24, 2021          2021  TV-MA   1 Season   \n3  September 24, 2021          2021  TV-MA   1 Season   \n4  September 24, 2021          2021  TV-MA  2 Seasons   \n\n                                           listed_in  \\\n0                                      Documentaries   \n1    International TV Shows, TV Dramas, TV Mysteries   \n2  Crime TV Shows, International TV Shows, TV Act...   \n3                             Docuseries, Reality TV   \n4  International TV Shows, Romantic TV Shows, TV ...   \n\n                                         description  \n0  As her father nears the end of his life, filmm...  \n1  After crossing paths at a party, a Cape Town t...  \n2  To protect his family from a powerful drug lor...  \n3  Feuds, flirtations and toilet talk go down amo...  \n4  In a city of coaching centers known to train I...  ",
            "text/html": "<div>\n<style scoped>\n    .dataframe tbody tr th:only-of-type {\n        vertical-align: middle;\n    }\n\n    .dataframe tbody tr th {\n        vertical-align: top;\n    }\n\n    .dataframe thead th {\n        text-align: right;\n    }\n</style>\n<table border=\"1\" class=\"dataframe\">\n  <thead>\n    <tr style=\"text-align: right;\">\n      <th></th>\n      <th>show_id</th>\n      <th>type</th>\n      <th>title</th>\n      <th>director</th>\n      <th>cast</th>\n      <th>country</th>\n      <th>date_added</th>\n      <th>release_year</th>\n      <th>rating</th>\n      <th>duration</th>\n      <th>listed_in</th>\n      <th>description</th>\n    </tr>\n  </thead>\n  <tbody>\n    <tr>\n      <th>0</th>\n      <td>s1</td>\n      <td>Movie</td>\n      <td>Dick Johnson Is Dead</td>\n      <td>Kirsten Johnson</td>\n      <td>NaN</td>\n      <td>United States</td>\n      <td>September 25, 2021</td>\n      <td>2020</td>\n      <td>PG-13</td>\n      <td>90 min</td>\n      <td>Documentaries</td>\n      <td>As her father nears the end of his life, filmm...</td>\n    </tr>\n    <tr>\n      <th>1</th>\n      <td>s2</td>\n      <td>TV Show</td>\n      <td>Blood &amp; Water</td>\n      <td>NaN</td>\n      <td>Ama Qamata, Khosi Ngema, Gail Mabalane, Thaban...</td>\n      <td>South Africa</td>\n      <td>September 24, 2021</td>\n      <td>2021</td>\n      <td>TV-MA</td>\n      <td>2 Seasons</td>\n      <td>International TV Shows, TV Dramas, TV Mysteries</td>\n      <td>After crossing paths at a party, a Cape Town t...</td>\n    </tr>\n    <tr>\n      <th>2</th>\n      <td>s3</td>\n      <td>TV Show</td>\n      <td>Ganglands</td>\n      <td>Julien Leclercq</td>\n      <td>Sami Bouajila, Tracy Gotoas, Samuel Jouy, Nabi...</td>\n      <td>NaN</td>\n      <td>September 24, 2021</td>\n      <td>2021</td>\n      <td>TV-MA</td>\n      <td>1 Season</td>\n      <td>Crime TV Shows, International TV Shows, TV Act...</td>\n      <td>To protect his family from a powerful drug lor...</td>\n    </tr>\n    <tr>\n      <th>3</th>\n      <td>s4</td>\n      <td>TV Show</td>\n      <td>Jailbirds New Orleans</td>\n      <td>NaN</td>\n      <td>NaN</td>\n      <td>NaN</td>\n      <td>September 24, 2021</td>\n      <td>2021</td>\n      <td>TV-MA</td>\n      <td>1 Season</td>\n      <td>Docuseries, Reality TV</td>\n      <td>Feuds, flirtations and toilet talk go down amo...</td>\n    </tr>\n    <tr>\n      <th>4</th>\n      <td>s5</td>\n      <td>TV Show</td>\n      <td>Kota Factory</td>\n      <td>NaN</td>\n      <td>Mayur More, Jitendra Kumar, Ranjan Raj, Alam K...</td>\n      <td>India</td>\n      <td>September 24, 2021</td>\n      <td>2021</td>\n      <td>TV-MA</td>\n      <td>2 Seasons</td>\n      <td>International TV Shows, Romantic TV Shows, TV ...</td>\n      <td>In a city of coaching centers known to train I...</td>\n    </tr>\n  </tbody>\n</table>\n</div>"
          },
          "metadata": {}
        }
      ]
    },
    {
      "cell_type": "code",
      "source": [
        "netflix.count()"
      ],
      "metadata": {
        "execution": {
          "iopub.status.busy": "2023-12-01T23:19:34.216402Z",
          "iopub.execute_input": "2023-12-01T23:19:34.216839Z",
          "iopub.status.idle": "2023-12-01T23:19:34.243718Z",
          "shell.execute_reply.started": "2023-12-01T23:19:34.216795Z",
          "shell.execute_reply": "2023-12-01T23:19:34.242341Z"
        },
        "trusted": true,
        "id": "61T-ct3usP3V",
        "outputId": "cc52f029-9875-49f1-a376-062f4135f79b"
      },
      "execution_count": null,
      "outputs": [
        {
          "execution_count": 3,
          "output_type": "execute_result",
          "data": {
            "text/plain": "show_id         8807\ntype            8807\ntitle           8807\ndirector        6173\ncast            7982\ncountry         7976\ndate_added      8797\nrelease_year    8807\nrating          8803\nduration        8804\nlisted_in       8807\ndescription     8807\ndtype: int64"
          },
          "metadata": {}
        }
      ]
    },
    {
      "cell_type": "code",
      "source": [
        "netflix_shows=netflix[netflix['type']=='TV Show']\n"
      ],
      "metadata": {
        "execution": {
          "iopub.status.busy": "2023-12-01T23:19:34.247107Z",
          "iopub.execute_input": "2023-12-01T23:19:34.247892Z",
          "iopub.status.idle": "2023-12-01T23:19:34.262194Z",
          "shell.execute_reply.started": "2023-12-01T23:19:34.247858Z",
          "shell.execute_reply": "2023-12-01T23:19:34.260849Z"
        },
        "trusted": true,
        "id": "d-tfI_eWsP3V"
      },
      "execution_count": null,
      "outputs": []
    },
    {
      "cell_type": "code",
      "source": [
        "netflix_movies=netflix[netflix['type']=='Movie']\n"
      ],
      "metadata": {
        "execution": {
          "iopub.status.busy": "2023-12-01T23:19:34.263841Z",
          "iopub.execute_input": "2023-12-01T23:19:34.265302Z",
          "iopub.status.idle": "2023-12-01T23:19:34.279365Z",
          "shell.execute_reply.started": "2023-12-01T23:19:34.265254Z",
          "shell.execute_reply": "2023-12-01T23:19:34.278307Z"
        },
        "trusted": true,
        "id": "X8N8y49esP3V"
      },
      "execution_count": null,
      "outputs": []
    },
    {
      "cell_type": "code",
      "source": [
        "sns.set(style=\"ticks\")\n",
        "analysis = sns.countplot(x=\"type\", data=netflix, palette=\"flare\")"
      ],
      "metadata": {
        "execution": {
          "iopub.status.busy": "2023-12-01T23:19:34.281247Z",
          "iopub.execute_input": "2023-12-01T23:19:34.282090Z",
          "iopub.status.idle": "2023-12-01T23:19:34.684458Z",
          "shell.execute_reply.started": "2023-12-01T23:19:34.282046Z",
          "shell.execute_reply": "2023-12-01T23:19:34.682984Z"
        },
        "trusted": true,
        "id": "VbNaF1-UsP3W",
        "outputId": "7df3db55-c98c-49f2-9fb9-842e4b904309"
      },
      "execution_count": null,
      "outputs": [
        {
          "output_type": "display_data",
          "data": {
            "text/plain": "<Figure size 640x480 with 1 Axes>",
            "image/png": "[encoded data removed]"
          },
          "metadata": {}
        }
      ]
    },
    {
      "cell_type": "markdown",
      "source": [
        "**Movie Ratings Analysis**"
      ],
      "metadata": {
        "id": "Xvshu9VBsP3W"
      }
    },
    {
      "cell_type": "code",
      "source": [
        "plt.figure(figsize=(12,10))\n",
        "sns.set(style=\"ticks\")\n",
        "ax = sns.countplot(x=\"rating\", data=netflix_movies, palette=\"pastel\", order=netflix_movies['rating'].value_counts().index[0:15])"
      ],
      "metadata": {
        "execution": {
          "iopub.status.busy": "2023-12-01T23:19:34.686446Z",
          "iopub.execute_input": "2023-12-01T23:19:34.686924Z",
          "iopub.status.idle": "2023-12-01T23:19:35.139859Z",
          "shell.execute_reply.started": "2023-12-01T23:19:34.686880Z",
          "shell.execute_reply": "2023-12-01T23:19:35.138449Z"
        },
        "trusted": true,
        "id": "nfDauJtasP3W",
        "outputId": "0a6f1a20-cfe5-4221-c70a-8852b69bdd79"
      },
      "execution_count": null,
      "outputs": [
        {
          "output_type": "display_data",
          "data": {
            "text/plain": "<Figure size 1200x1000 with 1 Axes>",
            "image/png": "[encoded data removed]"
          },
          "metadata": {}
        }
      ]
    },
    {
      "cell_type": "markdown",
      "source": [
        "**Cleaning Data**"
      ],
      "metadata": {
        "id": "bi7TaOSysP3X"
      }
    },
    {
      "cell_type": "code",
      "source": [
        "netflix.isnull().sum()"
      ],
      "metadata": {
        "execution": {
          "iopub.status.busy": "2023-12-01T23:19:35.141661Z",
          "iopub.execute_input": "2023-12-01T23:19:35.142706Z",
          "iopub.status.idle": "2023-12-01T23:19:35.164227Z",
          "shell.execute_reply.started": "2023-12-01T23:19:35.142662Z",
          "shell.execute_reply": "2023-12-01T23:19:35.163308Z"
        },
        "trusted": true,
        "id": "svwxlRuwsP3X",
        "outputId": "758120ff-f153-421a-fcd3-e420fc7faeaf"
      },
      "execution_count": null,
      "outputs": [
        {
          "execution_count": 8,
          "output_type": "execute_result",
          "data": {
            "text/plain": "show_id            0\ntype               0\ntitle              0\ndirector        2634\ncast             825\ncountry          831\ndate_added        10\nrelease_year       0\nrating             4\nduration           3\nlisted_in          0\ndescription        0\ndtype: int64"
          },
          "metadata": {}
        }
      ]
    },
    {
      "cell_type": "markdown",
      "source": [
        "**Cleaning unexpected values in rating**"
      ],
      "metadata": {
        "id": "V-hyOceBsP3X"
      }
    },
    {
      "cell_type": "code",
      "source": [
        "#unexpected values in rating\n",
        "unexpect = netflix.loc[(netflix.rating == '74 min') | (netflix.rating == '84 min') | (netflix.rating == '66 min') ]\n",
        "unexpect"
      ],
      "metadata": {
        "execution": {
          "iopub.status.busy": "2023-12-01T23:19:35.165970Z",
          "iopub.execute_input": "2023-12-01T23:19:35.168380Z",
          "iopub.status.idle": "2023-12-01T23:19:35.204135Z",
          "shell.execute_reply.started": "2023-12-01T23:19:35.168323Z",
          "shell.execute_reply": "2023-12-01T23:19:35.202583Z"
        },
        "trusted": true,
        "id": "0HERP4EFsP3X",
        "outputId": "da0e642c-f9f6-489d-e1f9-fcd91763e7b7"
      },
      "execution_count": null,
      "outputs": [
        {
          "execution_count": 9,
          "output_type": "execute_result",
          "data": {
            "text/plain": "     show_id   type                                 title    director  \\\n5541   s5542  Movie                       Louis C.K. 2017  Louis C.K.   \n5794   s5795  Movie                 Louis C.K.: Hilarious  Louis C.K.   \n5813   s5814  Movie  Louis C.K.: Live at the Comedy Store  Louis C.K.   \n\n            cast        country          date_added  release_year  rating  \\\n5541  Louis C.K.  United States       April 4, 2017          2017  74 min   \n5794  Louis C.K.  United States  September 16, 2016          2010  84 min   \n5813  Louis C.K.  United States     August 15, 2016          2015  66 min   \n\n     duration listed_in                                        description  \n5541      NaN    Movies  Louis C.K. muses on religion, eternal love, gi...  \n5794      NaN    Movies  Emmy-winning comedy writer Louis C.K. brings h...  \n5813      NaN    Movies  The comic puts his trademark hilarious/thought...  ",
            "text/html": "<div>\n<style scoped>\n    .dataframe tbody tr th:only-of-type {\n        vertical-align: middle;\n    }\n\n    .dataframe tbody tr th {\n        vertical-align: top;\n    }\n\n    .dataframe thead th {\n        text-align: right;\n    }\n</style>\n<table border=\"1\" class=\"dataframe\">\n  <thead>\n    <tr style=\"text-align: right;\">\n      <th></th>\n      <th>show_id</th>\n      <th>type</th>\n      <th>title</th>\n      <th>director</th>\n      <th>cast</th>\n      <th>country</th>\n      <th>date_added</th>\n      <th>release_year</th>\n      <th>rating</th>\n      <th>duration</th>\n      <th>listed_in</th>\n      <th>description</th>\n    </tr>\n  </thead>\n  <tbody>\n    <tr>\n      <th>5541</th>\n      <td>s5542</td>\n      <td>Movie</td>\n      <td>Louis C.K. 2017</td>\n      <td>Louis C.K.</td>\n      <td>Louis C.K.</td>\n      <td>United States</td>\n      <td>April 4, 2017</td>\n      <td>2017</td>\n      <td>74 min</td>\n      <td>NaN</td>\n      <td>Movies</td>\n      <td>Louis C.K. muses on religion, eternal love, gi...</td>\n    </tr>\n    <tr>\n      <th>5794</th>\n      <td>s5795</td>\n      <td>Movie</td>\n      <td>Louis C.K.: Hilarious</td>\n      <td>Louis C.K.</td>\n      <td>Louis C.K.</td>\n      <td>United States</td>\n      <td>September 16, 2016</td>\n      <td>2010</td>\n      <td>84 min</td>\n      <td>NaN</td>\n      <td>Movies</td>\n      <td>Emmy-winning comedy writer Louis C.K. brings h...</td>\n    </tr>\n    <tr>\n      <th>5813</th>\n      <td>s5814</td>\n      <td>Movie</td>\n      <td>Louis C.K.: Live at the Comedy Store</td>\n      <td>Louis C.K.</td>\n      <td>Louis C.K.</td>\n      <td>United States</td>\n      <td>August 15, 2016</td>\n      <td>2015</td>\n      <td>66 min</td>\n      <td>NaN</td>\n      <td>Movies</td>\n      <td>The comic puts his trademark hilarious/thought...</td>\n    </tr>\n  </tbody>\n</table>\n</div>"
          },
          "metadata": {}
        }
      ]
    },
    {
      "cell_type": "code",
      "source": [
        "#correcting value\n",
        "indice = unexpect.index\n",
        "\n",
        "#put the rating values back to duration\n",
        "netflix.loc[indice,['duration']] = netflix.loc[indice,['rating']].values\n",
        "\n",
        "# set rating as 16\n",
        "netflix.rating.replace(['74 min', '84 min', '66 min'], 'TV-MA',inplace=True)"
      ],
      "metadata": {
        "execution": {
          "iopub.status.busy": "2023-12-01T23:19:35.209664Z",
          "iopub.execute_input": "2023-12-01T23:19:35.210057Z",
          "iopub.status.idle": "2023-12-01T23:19:35.232529Z",
          "shell.execute_reply.started": "2023-12-01T23:19:35.210024Z",
          "shell.execute_reply": "2023-12-01T23:19:35.230807Z"
        },
        "trusted": true,
        "id": "xB1Ic9nxsP3Y"
      },
      "execution_count": null,
      "outputs": []
    },
    {
      "cell_type": "code",
      "source": [
        "netflix.loc[indice]"
      ],
      "metadata": {
        "execution": {
          "iopub.status.busy": "2023-12-01T23:19:35.234340Z",
          "iopub.execute_input": "2023-12-01T23:19:35.235420Z",
          "iopub.status.idle": "2023-12-01T23:19:35.254899Z",
          "shell.execute_reply.started": "2023-12-01T23:19:35.235375Z",
          "shell.execute_reply": "2023-12-01T23:19:35.253507Z"
        },
        "trusted": true,
        "id": "7KRJjsTgsP3Y",
        "outputId": "a95c6a98-00ae-4175-9f70-e36be3339823"
      },
      "execution_count": null,
      "outputs": [
        {
          "execution_count": 11,
          "output_type": "execute_result",
          "data": {
            "text/plain": "     show_id   type                                 title    director  \\\n5541   s5542  Movie                       Louis C.K. 2017  Louis C.K.   \n5794   s5795  Movie                 Louis C.K.: Hilarious  Louis C.K.   \n5813   s5814  Movie  Louis C.K.: Live at the Comedy Store  Louis C.K.   \n\n            cast        country          date_added  release_year rating  \\\n5541  Louis C.K.  United States       April 4, 2017          2017  TV-MA   \n5794  Louis C.K.  United States  September 16, 2016          2010  TV-MA   \n5813  Louis C.K.  United States     August 15, 2016          2015  TV-MA   \n\n     duration listed_in                                        description  \n5541   74 min    Movies  Louis C.K. muses on religion, eternal love, gi...  \n5794   84 min    Movies  Emmy-winning comedy writer Louis C.K. brings h...  \n5813   66 min    Movies  The comic puts his trademark hilarious/thought...  ",
            "text/html": "<div>\n<style scoped>\n    .dataframe tbody tr th:only-of-type {\n        vertical-align: middle;\n    }\n\n    .dataframe tbody tr th {\n        vertical-align: top;\n    }\n\n    .dataframe thead th {\n        text-align: right;\n    }\n</style>\n<table border=\"1\" class=\"dataframe\">\n  <thead>\n    <tr style=\"text-align: right;\">\n      <th></th>\n      <th>show_id</th>\n      <th>type</th>\n      <th>title</th>\n      <th>director</th>\n      <th>cast</th>\n      <th>country</th>\n      <th>date_added</th>\n      <th>release_year</th>\n      <th>rating</th>\n      <th>duration</th>\n      <th>listed_in</th>\n      <th>description</th>\n    </tr>\n  </thead>\n  <tbody>\n    <tr>\n      <th>5541</th>\n      <td>s5542</td>\n      <td>Movie</td>\n      <td>Louis C.K. 2017</td>\n      <td>Louis C.K.</td>\n      <td>Louis C.K.</td>\n      <td>United States</td>\n      <td>April 4, 2017</td>\n      <td>2017</td>\n      <td>TV-MA</td>\n      <td>74 min</td>\n      <td>Movies</td>\n      <td>Louis C.K. muses on religion, eternal love, gi...</td>\n    </tr>\n    <tr>\n      <th>5794</th>\n      <td>s5795</td>\n      <td>Movie</td>\n      <td>Louis C.K.: Hilarious</td>\n      <td>Louis C.K.</td>\n      <td>Louis C.K.</td>\n      <td>United States</td>\n      <td>September 16, 2016</td>\n      <td>2010</td>\n      <td>TV-MA</td>\n      <td>84 min</td>\n      <td>Movies</td>\n      <td>Emmy-winning comedy writer Louis C.K. brings h...</td>\n    </tr>\n    <tr>\n      <th>5813</th>\n      <td>s5814</td>\n      <td>Movie</td>\n      <td>Louis C.K.: Live at the Comedy Store</td>\n      <td>Louis C.K.</td>\n      <td>Louis C.K.</td>\n      <td>United States</td>\n      <td>August 15, 2016</td>\n      <td>2015</td>\n      <td>TV-MA</td>\n      <td>66 min</td>\n      <td>Movies</td>\n      <td>The comic puts his trademark hilarious/thought...</td>\n    </tr>\n  </tbody>\n</table>\n</div>"
          },
          "metadata": {}
        }
      ]
    },
    {
      "cell_type": "code",
      "source": [
        "#rating missing value\n",
        "netflix[netflix.rating.isnull()]"
      ],
      "metadata": {
        "execution": {
          "iopub.status.busy": "2023-12-01T23:19:35.257239Z",
          "iopub.execute_input": "2023-12-01T23:19:35.257700Z",
          "iopub.status.idle": "2023-12-01T23:19:35.280000Z",
          "shell.execute_reply.started": "2023-12-01T23:19:35.257659Z",
          "shell.execute_reply": "2023-12-01T23:19:35.278684Z"
        },
        "trusted": true,
        "id": "v3gxMQlRsP3Y",
        "outputId": "a4da4024-1012-441e-b343-ec7cf8a69eac"
      },
      "execution_count": null,
      "outputs": [
        {
          "execution_count": 12,
          "output_type": "execute_result",
          "data": {
            "text/plain": "     show_id     type                                              title  \\\n5989   s5990    Movie  13TH: A Conversation with Oprah Winfrey & Ava ...   \n6827   s6828  TV Show                  Gargantia on the Verdurous Planet   \n7312   s7313  TV Show                                       Little Lunch   \n7537   s7538    Movie                               My Honor Was Loyalty   \n\n             director                                               cast  \\\n5989              NaN                        Oprah Winfrey, Ava DuVernay   \n6827              NaN  Kaito Ishikawa, Hisako Kanemoto, Ai Kayano, Ka...   \n7312              NaN  Flynn Curry, Olivia Deeble, Madison Lu, Oisín ...   \n7537  Alessandro Pepe  Leone Frisa, Paolo Vaccarino, Francesco Miglio...   \n\n        country        date_added  release_year rating  duration  \\\n5989        NaN  January 26, 2017          2017    NaN    37 min   \n6827      Japan  December 1, 2016          2013    NaN  1 Season   \n7312  Australia  February 1, 2018          2015    NaN  1 Season   \n7537      Italy     March 1, 2017          2015    NaN   115 min   \n\n                                 listed_in  \\\n5989                                Movies   \n6827  Anime Series, International TV Shows   \n7312                 Kids' TV, TV Comedies   \n7537                                Dramas   \n\n                                            description  \n5989  Oprah Winfrey sits down with director Ava DuVe...  \n6827  After falling through a wormhole, a space-dwel...  \n7312  Adopting a child's perspective, this show take...  \n7537  Amid the chaos and horror of World War II, a c...  ",
            "text/html": "<div>\n<style scoped>\n    .dataframe tbody tr th:only-of-type {\n        vertical-align: middle;\n    }\n\n    .dataframe tbody tr th {\n        vertical-align: top;\n    }\n\n    .dataframe thead th {\n        text-align: right;\n    }\n</style>\n<table border=\"1\" class=\"dataframe\">\n  <thead>\n    <tr style=\"text-align: right;\">\n      <th></th>\n      <th>show_id</th>\n      <th>type</th>\n      <th>title</th>\n      <th>director</th>\n      <th>cast</th>\n      <th>country</th>\n      <th>date_added</th>\n      <th>release_year</th>\n      <th>rating</th>\n      <th>duration</th>\n      <th>listed_in</th>\n      <th>description</th>\n    </tr>\n  </thead>\n  <tbody>\n    <tr>\n      <th>5989</th>\n      <td>s5990</td>\n      <td>Movie</td>\n      <td>13TH: A Conversation with Oprah Winfrey &amp; Ava ...</td>\n      <td>NaN</td>\n      <td>Oprah Winfrey, Ava DuVernay</td>\n      <td>NaN</td>\n      <td>January 26, 2017</td>\n      <td>2017</td>\n      <td>NaN</td>\n      <td>37 min</td>\n      <td>Movies</td>\n      <td>Oprah Winfrey sits down with director Ava DuVe...</td>\n    </tr>\n    <tr>\n      <th>6827</th>\n      <td>s6828</td>\n      <td>TV Show</td>\n      <td>Gargantia on the Verdurous Planet</td>\n      <td>NaN</td>\n      <td>Kaito Ishikawa, Hisako Kanemoto, Ai Kayano, Ka...</td>\n      <td>Japan</td>\n      <td>December 1, 2016</td>\n      <td>2013</td>\n      <td>NaN</td>\n      <td>1 Season</td>\n      <td>Anime Series, International TV Shows</td>\n      <td>After falling through a wormhole, a space-dwel...</td>\n    </tr>\n    <tr>\n      <th>7312</th>\n      <td>s7313</td>\n      <td>TV Show</td>\n      <td>Little Lunch</td>\n      <td>NaN</td>\n      <td>Flynn Curry, Olivia Deeble, Madison Lu, Oisín ...</td>\n      <td>Australia</td>\n      <td>February 1, 2018</td>\n      <td>2015</td>\n      <td>NaN</td>\n      <td>1 Season</td>\n      <td>Kids' TV, TV Comedies</td>\n      <td>Adopting a child's perspective, this show take...</td>\n    </tr>\n    <tr>\n      <th>7537</th>\n      <td>s7538</td>\n      <td>Movie</td>\n      <td>My Honor Was Loyalty</td>\n      <td>Alessandro Pepe</td>\n      <td>Leone Frisa, Paolo Vaccarino, Francesco Miglio...</td>\n      <td>Italy</td>\n      <td>March 1, 2017</td>\n      <td>2015</td>\n      <td>NaN</td>\n      <td>115 min</td>\n      <td>Dramas</td>\n      <td>Amid the chaos and horror of World War II, a c...</td>\n    </tr>\n  </tbody>\n</table>\n</div>"
          },
          "metadata": {}
        }
      ]
    },
    {
      "cell_type": "code",
      "source": [
        "netflix.loc[[5989], ['rating']] = 'TV-PG'\n",
        "netflix.loc[[6827], ['rating']] = 'TV-14'\n",
        "netflix.loc[[7312], ['rating']] = 'TV-PG'\n",
        "netflix.loc[[7537], ['rating']] = 'PG-13'"
      ],
      "metadata": {
        "execution": {
          "iopub.status.busy": "2023-12-01T23:19:35.281933Z",
          "iopub.execute_input": "2023-12-01T23:19:35.282371Z",
          "iopub.status.idle": "2023-12-01T23:19:35.300293Z",
          "shell.execute_reply.started": "2023-12-01T23:19:35.282330Z",
          "shell.execute_reply": "2023-12-01T23:19:35.298578Z"
        },
        "trusted": true,
        "id": "f5d4LjBzsP3Y"
      },
      "execution_count": null,
      "outputs": []
    },
    {
      "cell_type": "code",
      "source": [
        "#adjust rating\n",
        "netflix.loc[netflix.rating.isin(['TV-Y7-FV']), ['rating']] = 'TV-Y7'\n",
        "netflix.loc[netflix.rating.isin(['TV-G']), ['rating']] = 'G'\n",
        "netflix.loc[netflix.rating.isin(['TV-PG']), ['rating']] = 'PG'\n",
        "netflix.loc[netflix.rating.isin(['TV-MA']), ['rating']] = 'R'\n",
        "netflix.loc[netflix.rating.isin(['NR', 'UR']), ['rating']] = 'nrur'"
      ],
      "metadata": {
        "execution": {
          "iopub.status.busy": "2023-12-01T23:19:35.302645Z",
          "iopub.execute_input": "2023-12-01T23:19:35.303161Z",
          "iopub.status.idle": "2023-12-01T23:19:35.325427Z",
          "shell.execute_reply.started": "2023-12-01T23:19:35.303119Z",
          "shell.execute_reply": "2023-12-01T23:19:35.324165Z"
        },
        "trusted": true,
        "id": "4ZzWUXQTsP3Y"
      },
      "execution_count": null,
      "outputs": []
    },
    {
      "cell_type": "code",
      "source": [
        "#create a new column to catergory kid, teen, adult\n",
        "kid = netflix[netflix.rating.isin(['TV-Y','TV-Y7','G','PG'])].index\n",
        "teen = netflix[netflix.rating.isin(['PG-13','TV-14'])].index\n",
        "adult = netflix[netflix.rating.isin(['R','NC-17','nrur'])].index\n",
        "netflix.loc[kid, 'maturity_level'] = 'kid'\n",
        "netflix.loc[teen, 'maturity_level'] = 'teen'\n",
        "netflix.loc[adult, 'maturity_level'] = 'adult'"
      ],
      "metadata": {
        "execution": {
          "iopub.status.busy": "2023-12-01T23:19:35.327321Z",
          "iopub.execute_input": "2023-12-01T23:19:35.327798Z",
          "iopub.status.idle": "2023-12-01T23:19:35.350122Z",
          "shell.execute_reply.started": "2023-12-01T23:19:35.327756Z",
          "shell.execute_reply": "2023-12-01T23:19:35.348767Z"
        },
        "trusted": true,
        "id": "ymP2zOKxsP3Y"
      },
      "execution_count": null,
      "outputs": []
    },
    {
      "cell_type": "code",
      "source": [
        "netflix.head(5)"
      ],
      "metadata": {
        "execution": {
          "iopub.status.busy": "2023-12-01T23:19:35.351717Z",
          "iopub.execute_input": "2023-12-01T23:19:35.352394Z",
          "iopub.status.idle": "2023-12-01T23:19:35.374659Z",
          "shell.execute_reply.started": "2023-12-01T23:19:35.352350Z",
          "shell.execute_reply": "2023-12-01T23:19:35.373241Z"
        },
        "trusted": true,
        "id": "DkLj0oVRsP3Y",
        "outputId": "ff119fb8-6d30-4923-d9f5-22fbfdd0c839"
      },
      "execution_count": null,
      "outputs": [
        {
          "execution_count": 16,
          "output_type": "execute_result",
          "data": {
            "text/plain": "  show_id     type                  title         director  \\\n0      s1    Movie   Dick Johnson Is Dead  Kirsten Johnson   \n1      s2  TV Show          Blood & Water              NaN   \n2      s3  TV Show              Ganglands  Julien Leclercq   \n3      s4  TV Show  Jailbirds New Orleans              NaN   \n4      s5  TV Show           Kota Factory              NaN   \n\n                                                cast        country  \\\n0                                                NaN  United States   \n1  Ama Qamata, Khosi Ngema, Gail Mabalane, Thaban...   South Africa   \n2  Sami Bouajila, Tracy Gotoas, Samuel Jouy, Nabi...            NaN   \n3                                                NaN            NaN   \n4  Mayur More, Jitendra Kumar, Ranjan Raj, Alam K...          India   \n\n           date_added  release_year rating   duration  \\\n0  September 25, 2021          2020  PG-13     90 min   \n1  September 24, 2021          2021      R  2 Seasons   \n2  September 24, 2021          2021      R   1 Season   \n3  September 24, 2021          2021      R   1 Season   \n4  September 24, 2021          2021      R  2 Seasons   \n\n                                           listed_in  \\\n0                                      Documentaries   \n1    International TV Shows, TV Dramas, TV Mysteries   \n2  Crime TV Shows, International TV Shows, TV Act...   \n3                             Docuseries, Reality TV   \n4  International TV Shows, Romantic TV Shows, TV ...   \n\n                                         description maturity_level  \n0  As her father nears the end of his life, filmm...           teen  \n1  After crossing paths at a party, a Cape Town t...          adult  \n2  To protect his family from a powerful drug lor...          adult  \n3  Feuds, flirtations and toilet talk go down amo...          adult  \n4  In a city of coaching centers known to train I...          adult  ",
            "text/html": "<div>\n<style scoped>\n    .dataframe tbody tr th:only-of-type {\n        vertical-align: middle;\n    }\n\n    .dataframe tbody tr th {\n        vertical-align: top;\n    }\n\n    .dataframe thead th {\n        text-align: right;\n    }\n</style>\n<table border=\"1\" class=\"dataframe\">\n  <thead>\n    <tr style=\"text-align: right;\">\n      <th></th>\n      <th>show_id</th>\n      <th>type</th>\n      <th>title</th>\n      <th>director</th>\n      <th>cast</th>\n      <th>country</th>\n      <th>date_added</th>\n      <th>release_year</th>\n      <th>rating</th>\n      <th>duration</th>\n      <th>listed_in</th>\n      <th>description</th>\n      <th>maturity_level</th>\n    </tr>\n  </thead>\n  <tbody>\n    <tr>\n      <th>0</th>\n      <td>s1</td>\n      <td>Movie</td>\n      <td>Dick Johnson Is Dead</td>\n      <td>Kirsten Johnson</td>\n      <td>NaN</td>\n      <td>United States</td>\n      <td>September 25, 2021</td>\n      <td>2020</td>\n      <td>PG-13</td>\n      <td>90 min</td>\n      <td>Documentaries</td>\n      <td>As her father nears the end of his life, filmm...</td>\n      <td>teen</td>\n    </tr>\n    <tr>\n      <th>1</th>\n      <td>s2</td>\n      <td>TV Show</td>\n      <td>Blood &amp; Water</td>\n      <td>NaN</td>\n      <td>Ama Qamata, Khosi Ngema, Gail Mabalane, Thaban...</td>\n      <td>South Africa</td>\n      <td>September 24, 2021</td>\n      <td>2021</td>\n      <td>R</td>\n      <td>2 Seasons</td>\n      <td>International TV Shows, TV Dramas, TV Mysteries</td>\n      <td>After crossing paths at a party, a Cape Town t...</td>\n      <td>adult</td>\n    </tr>\n    <tr>\n      <th>2</th>\n      <td>s3</td>\n      <td>TV Show</td>\n      <td>Ganglands</td>\n      <td>Julien Leclercq</td>\n      <td>Sami Bouajila, Tracy Gotoas, Samuel Jouy, Nabi...</td>\n      <td>NaN</td>\n      <td>September 24, 2021</td>\n      <td>2021</td>\n      <td>R</td>\n      <td>1 Season</td>\n      <td>Crime TV Shows, International TV Shows, TV Act...</td>\n      <td>To protect his family from a powerful drug lor...</td>\n      <td>adult</td>\n    </tr>\n    <tr>\n      <th>3</th>\n      <td>s4</td>\n      <td>TV Show</td>\n      <td>Jailbirds New Orleans</td>\n      <td>NaN</td>\n      <td>NaN</td>\n      <td>NaN</td>\n      <td>September 24, 2021</td>\n      <td>2021</td>\n      <td>R</td>\n      <td>1 Season</td>\n      <td>Docuseries, Reality TV</td>\n      <td>Feuds, flirtations and toilet talk go down amo...</td>\n      <td>adult</td>\n    </tr>\n    <tr>\n      <th>4</th>\n      <td>s5</td>\n      <td>TV Show</td>\n      <td>Kota Factory</td>\n      <td>NaN</td>\n      <td>Mayur More, Jitendra Kumar, Ranjan Raj, Alam K...</td>\n      <td>India</td>\n      <td>September 24, 2021</td>\n      <td>2021</td>\n      <td>R</td>\n      <td>2 Seasons</td>\n      <td>International TV Shows, Romantic TV Shows, TV ...</td>\n      <td>In a city of coaching centers known to train I...</td>\n      <td>adult</td>\n    </tr>\n  </tbody>\n</table>\n</div>"
          },
          "metadata": {}
        }
      ]
    },
    {
      "cell_type": "code",
      "source": [],
      "metadata": {
        "id": "k_QB0lfHsP3Z"
      },
      "execution_count": null,
      "outputs": []
    }
  ]
}